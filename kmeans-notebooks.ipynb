{
 "cells": [
  {
   "cell_type": "markdown",
   "metadata": {},
   "source": [
    "# Compression d'image avec k-means\n",
    "\n",
    "Dans ce projet, nous allons implémenter l'algorythm de k-means appliqué à la compression d'image.\n",
    "\n",
    "## Plan\n",
    "* Implementation de k-means\n",
    "* Compression d'image avec k-means"
   ]
  },
  {
   "cell_type": "code",
   "execution_count": 22,
   "metadata": {},
   "outputs": [],
   "source": [
    "import pandas as pd\n",
    "import numpy as np"
   ]
  },
  {
   "cell_type": "markdown",
   "metadata": {},
   "source": [
    "## Qu'est-ce qu K-means\n",
    "C'est une methode pour grouper ensemble les points de données similaires de manière automatique."
   ]
  },
  {
   "cell_type": "markdown",
   "metadata": {},
   "source": [
    "On a un jeu de données d'entrainement $\\{x^{(1)}, ..., x^{(m)}\\}$, et on veut grouper les données en plusieurs clusters.\n",
    "\n",
    "K-means est une procédure itérative qui :\n",
    "* Commence par assigner aléatoirement des centroids\n",
    "* Affine ces centroids en:\n",
    "    - Assignant de manière répétitive les exemples à leur centroide le plus proche, \n",
    "    - Et en calculant de nouveau les centroids"
   ]
  },
  {
   "cell_type": "markdown",
   "metadata": {},
   "source": [
    "## Chercher les centroids les plus proches"
   ]
  },
  {
   "cell_type": "code",
   "execution_count": 23,
   "metadata": {},
   "outputs": [],
   "source": [
    "def find_closest_centroids(X, centroids):\n",
    "    \n",
    "    # K : number of clusters\n",
    "    K = centroids.shape[0]\n",
    "    \n",
    "    \n",
    "    idx = np.zeros(X.shape[0], dtype=int)\n",
    "    for row_index in range(K):\n",
    "        distances = []\n",
    "        for centroid_index in range(centroids.shape[0]):\n",
    "            # Implementation of the formula to compute distance between 2 points\n",
    "            norm_ij = np.linalg.norm( X[row_index] - centroids[centroid_index])\n",
    "            distances.append(norm_ij)\n",
    "        idx[row_index] = np.argmin(distances)\n",
    "    return idx"
   ]
  },
  {
   "cell_type": "markdown",
   "metadata": {},
   "source": [
    "## Calculer les centroids"
   ]
  },
  {
   "cell_type": "code",
   "execution_count": 32,
   "metadata": {},
   "outputs": [],
   "source": [
    "def compute_centroids(X, idx, K):\n",
    "    m, n = X.shape\n",
    "    centroids = np.zeros((K, n))\n",
    "    \n",
    "    ### START CODE HERE ###\n",
    "    example_per_cluster = np.zeros(K)\n",
    "    for i in range(m):\n",
    "        cluster_idx = idx[i]\n",
    "        centroids[cluster_idx] += X[i]\n",
    "        example_per_cluster[cluster_idx] += 1\n",
    "        \n",
    "    for i in range(K):\n",
    "        print(\"==> \" , example_per_cluster[i])\n",
    "        \n",
    "    for i in range(K):\n",
    "        \n",
    "        centroids[i] /= max(1.0,example_per_cluster[i])\n",
    "    \n",
    "    return centroids\n",
    "    "
   ]
  },
  {
   "cell_type": "markdown",
   "metadata": {},
   "source": [
    "## Lancer K-means"
   ]
  },
  {
   "cell_type": "code",
   "execution_count": 33,
   "metadata": {},
   "outputs": [],
   "source": [
    "def run_kmeans(X, initial_centroids, max_iter=10):\n",
    "    # m : Nb of rows\n",
    "    # n : Nb of features\n",
    "    m, n = X.shape\n",
    "    nbClusters = initial_centroids.shape[0]\n",
    "    centroids = initial_centroids\n",
    "    previous_centroids = centroids\n",
    "    idx = np.zeros(m)\n",
    "    \n",
    "    for i in range(max_iter):\n",
    "        idx = find_closest_centroids(X, centroids)\n",
    "        centroids = compute_centroids(X, idx, nbClusters)\n",
    "    return centroids, idx\n",
    "    "
   ]
  },
  {
   "cell_type": "code",
   "execution_count": 34,
   "metadata": {},
   "outputs": [
    {
     "data": {
      "text/plain": [
       "(150, 4)"
      ]
     },
     "execution_count": 34,
     "metadata": {},
     "output_type": "execute_result"
    }
   ],
   "source": [
    "from sklearn.datasets import load_iris\n",
    "iris = load_iris()\n",
    "X = iris.data\n",
    "X.shape\n"
   ]
  },
  {
   "cell_type": "code",
   "execution_count": 35,
   "metadata": {},
   "outputs": [
    {
     "name": "stdout",
     "output_type": "stream",
     "text": [
      "==>  146.0\n",
      "==>  3.0\n",
      "==>  1.0\n",
      "==>  0.0\n",
      "==>  146.0\n",
      "==>  0.0\n",
      "==>  0.0\n",
      "==>  4.0\n",
      "==>  146.0\n",
      "==>  4.0\n",
      "==>  0.0\n",
      "==>  0.0\n",
      "==>  146.0\n",
      "==>  0.0\n",
      "==>  4.0\n",
      "==>  0.0\n",
      "==>  146.0\n",
      "==>  4.0\n",
      "==>  0.0\n",
      "==>  0.0\n",
      "==>  146.0\n",
      "==>  0.0\n",
      "==>  4.0\n",
      "==>  0.0\n",
      "==>  146.0\n",
      "==>  4.0\n",
      "==>  0.0\n",
      "==>  0.0\n",
      "==>  146.0\n",
      "==>  0.0\n",
      "==>  4.0\n",
      "==>  0.0\n",
      "==>  146.0\n",
      "==>  4.0\n",
      "==>  0.0\n",
      "==>  0.0\n",
      "==>  146.0\n",
      "==>  0.0\n",
      "==>  4.0\n",
      "==>  0.0\n"
     ]
    },
    {
     "name": "stderr",
     "output_type": "stream",
     "text": [
      "/tmp/ipykernel_63432/2191671739.py:17: RuntimeWarning: invalid value encountered in true_divide\n",
      "  centroids[i] /= example_per_cluster[i]\n"
     ]
    }
   ],
   "source": [
    "initial_centroids = np.array([\n",
    "    [1.0 ,1.0, 1.0, 1.0],\n",
    "    [2.0 ,2.0, 2.0, 2.0],\n",
    "    [3.0 ,3.0, 3.0, 3.0],\n",
    "    [4.0, 4.0, 4.0, 4.0]])\n",
    "max_iters = 10\n",
    "centroids, idx = run_kmeans(X, initial_centroids, max_iters)"
   ]
  }
 ],
 "metadata": {
  "kernelspec": {
   "display_name": "base",
   "language": "python",
   "name": "python3"
  },
  "language_info": {
   "codemirror_mode": {
    "name": "ipython",
    "version": 3
   },
   "file_extension": ".py",
   "mimetype": "text/x-python",
   "name": "python",
   "nbconvert_exporter": "python",
   "pygments_lexer": "ipython3",
   "version": "3.9.13"
  }
 },
 "nbformat": 4,
 "nbformat_minor": 2
}
