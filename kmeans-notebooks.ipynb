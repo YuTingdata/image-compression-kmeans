{
 "cells": [
  {
   "cell_type": "markdown",
   "metadata": {},
   "source": [
    "# Compression d'image avec k-means\n",
    "\n",
    "Dans ce projet, nous allons implémenter l'algorythm de k-means appliqué à la compression d'image.\n",
    "\n",
    "## Plan\n",
    "* Implementation de k-means\n",
    "* Compression d'image avec k-means"
   ]
  },
  {
   "cell_type": "code",
   "execution_count": 1,
   "metadata": {},
   "outputs": [],
   "source": [
    "import pandas as pd\n",
    "import numpy as np"
   ]
  },
  {
   "cell_type": "markdown",
   "metadata": {},
   "source": [
    "## Qu'est-ce qu K-means\n",
    "C'est une methode pour grouper ensemble les points de données similaires de manière automatique."
   ]
  },
  {
   "cell_type": "markdown",
   "metadata": {},
   "source": [
    "On a un jeu de données d'entrainement $\\{x^{(1)}, ..., x^{(m)}\\}$, et on veut grouper les données en plusieurs clusters.\n",
    "\n",
    "K-means est une procédure itérative qui :\n",
    "* Commence par assigner aléatoirement des centroids\n",
    "* Affine ces centroids en:\n",
    "    - Assignant de manière répétitive les exemples à leur centroide le plus proche, \n",
    "    - Et en calculant de nouveau les centroids"
   ]
  },
  {
   "cell_type": "markdown",
   "metadata": {},
   "source": [
    "## Chercher les centroids les plus proches"
   ]
  },
  {
   "cell_type": "code",
   "execution_count": null,
   "metadata": {},
   "outputs": [],
   "source": [
    "def find_closest_centroids(X, centroids):\n",
    "    \n",
    "    # K : number of clusters\n",
    "    K = centroids.shape[0]\n",
    "    \n",
    "    \n",
    "    idx = np.zeros(X.shape[0], dtype=int)\n",
    "    for row_index in range(K):\n",
    "        distances = []\n",
    "        for centroid_index in range(centroids.shape[0]):\n",
    "            # Implementation of the formula to compute distance between 2 points\n",
    "            norm_ij = np.linalg.norm( X[row_index] - centroids[centroid_index])\n",
    "            distances.append(norm_ij)\n",
    "        idx[row_index] = np.argmin(distances)\n",
    "    return idx"
   ]
  }
 ],
 "metadata": {
  "kernelspec": {
   "display_name": "base",
   "language": "python",
   "name": "python3"
  },
  "language_info": {
   "codemirror_mode": {
    "name": "ipython",
    "version": 3
   },
   "file_extension": ".py",
   "mimetype": "text/x-python",
   "name": "python",
   "nbconvert_exporter": "python",
   "pygments_lexer": "ipython3",
   "version": "3.9.13"
  }
 },
 "nbformat": 4,
 "nbformat_minor": 2
}
